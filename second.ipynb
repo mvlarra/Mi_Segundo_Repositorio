{
 "cells": [
  {
   "cell_type": "markdown",
   "metadata": {},
   "source": [
    "### Segunda Practica en Python\n",
    "lOS MARKDOWNS NOS PERMITEN ESCRIBIR NOTACION CIENTIFICA Y TEXTO (CREO QUE DIJO)\n",
    "\n",
    "- **Tema**: Operadores y Tipos Basicos\n",
    "- **Fecha**:20/12/2024\n",
    "\n",
    "Los dos asteriscos seguidos, antes y despues del texto,  ponen el texto en negrita.\n",
    "Los # formatean el texto como titulo / subtitulo, mas grande o chica, dependiendo la cantidad de #\n"
   ]
  },
  {
   "cell_type": "code",
   "execution_count": 19,
   "metadata": {},
   "outputs": [
    {
     "name": "stdout",
     "output_type": "stream",
     "text": [
      "11\n"
     ]
    }
   ],
   "source": [
    "b=(3*2)+5\n",
    "print(b)"
   ]
  },
  {
   "cell_type": "markdown",
   "metadata": {},
   "source": [
    "los operadores de grupo, son los parentesis. Son los que determinan el orden al operar. En este caso, perimero hace 3*2 y a eso le suma 5"
   ]
  },
  {
   "cell_type": "markdown",
   "metadata": {},
   "source": [
    "Veamos como funcionan las precedencias:"
   ]
  },
  {
   "cell_type": "code",
   "execution_count": 20,
   "metadata": {},
   "outputs": [
    {
     "name": "stdout",
     "output_type": "stream",
     "text": [
      "11\n"
     ]
    }
   ],
   "source": [
    "c = (3*2+5)\n",
    "print(c)"
   ]
  },
  {
   "cell_type": "markdown",
   "metadata": {},
   "source": [
    "El Orden de python por defecto es la precedencia. En este caso primero resuelve la multiplicacion y luego la adicion.\n"
   ]
  },
  {
   "cell_type": "code",
   "execution_count": 21,
   "metadata": {},
   "outputs": [
    {
     "name": "stdout",
     "output_type": "stream",
     "text": [
      "3\n"
     ]
    }
   ],
   "source": [
    "d = 7//2\n",
    "#floor Division\n",
    "print(d)"
   ]
  },
  {
   "cell_type": "code",
   "execution_count": 22,
   "metadata": {},
   "outputs": [
    {
     "name": "stdout",
     "output_type": "stream",
     "text": [
      "1\n"
     ]
    }
   ],
   "source": [
    "e = 7%2\n",
    "#el operador %, me devuelve el resto o residua de la division.\n",
    "print(e)"
   ]
  },
  {
   "cell_type": "code",
   "execution_count": 23,
   "metadata": {},
   "outputs": [
    {
     "name": "stdout",
     "output_type": "stream",
     "text": [
      "256\n"
     ]
    }
   ],
   "source": [
    "f=2**8\n",
    "# ** es potencia. 2 elevado a la 8\n",
    "print(f)"
   ]
  },
  {
   "cell_type": "code",
   "execution_count": 24,
   "metadata": {},
   "outputs": [
    {
     "data": {
      "text/plain": [
       "int"
      ]
     },
     "execution_count": 24,
     "metadata": {},
     "output_type": "execute_result"
    }
   ],
   "source": [
    "type(f)\n",
    "# esta funcion me devuelve el tipo de datos de la variable f. \n",
    "# python intenta adivinar que tipos de datos estamos trabajando."
   ]
  },
  {
   "cell_type": "code",
   "execution_count": 25,
   "metadata": {},
   "outputs": [
    {
     "data": {
      "text/plain": [
       "True"
      ]
     },
     "execution_count": 25,
     "metadata": {},
     "output_type": "execute_result"
    }
   ],
   "source": [
    "#Vamos a ver operadores de comparacion:\n",
    "b == c\n",
    "# aca le estamos preguntando a la maquina es la variable b igual a la variable c? \n",
    "# Las posibles respuestas son dos Si o No (True o False)\n",
    "# Un igual solo es asignacion\n",
    "# dos simbolos de igual es comparacion"
   ]
  },
  {
   "cell_type": "code",
   "execution_count": 26,
   "metadata": {},
   "outputs": [
    {
     "data": {
      "text/plain": [
       "5"
      ]
     },
     "execution_count": 26,
     "metadata": {},
     "output_type": "execute_result"
    }
   ],
   "source": [
    "# Ahora vamoa a ver como asignar de forma compactada\n",
    "x = 3 \n",
    "x = x + 2 #Aca actualizamos a x sumandole a su valor 2\n",
    "x # podemos compactar "
   ]
  },
  {
   "cell_type": "code",
   "execution_count": 27,
   "metadata": {},
   "outputs": [
    {
     "data": {
      "text/plain": [
       "5"
      ]
     },
     "execution_count": 27,
     "metadata": {},
     "output_type": "execute_result"
    }
   ],
   "source": [
    "#Para escribirlo de forma compactada seria asi:\n",
    "x = 3 \n",
    "x += 2 # += es el Operador de asignacion compacto. Es decir, x = x + 2 es lo mismo que x += 2\n",
    "x"
   ]
  },
  {
   "cell_type": "code",
   "execution_count": 28,
   "metadata": {},
   "outputs": [
    {
     "name": "stdout",
     "output_type": "stream",
     "text": [
      "2\n"
     ]
    }
   ],
   "source": [
    "#Para inicializar una variable que aun no esta inicializada \n",
    "#Ejemplo: print(y+2) sin que me de error al correrlo\n",
    "#Debo usar el operador waldorf := \n",
    "#asigna al aire el valor de la variable y,. luego se olvida, y le agrega el dos.\n",
    "print (y:=2)"
   ]
  },
  {
   "cell_type": "markdown",
   "metadata": {},
   "source": [
    "En este momento que hice control S, aca estamos guardando el file en la maquina virtual. En un espacio que es local en esa maquina. \n",
    "Ahora quiero pasarlo al repositorio de github\n",
    "Sistema de control de versiones.\n",
    "Cada archivo nacio, es la version 0, y cada cambio genera una nueva version.\n",
    "El control de versiones guarda el registro de cada cambio que hice.\n"
   ]
  },
  {
   "cell_type": "markdown",
   "metadata": {},
   "source": [
    "Para que el file sea visto por git, debo  poner el siguiente comandoen la terminal: git add second.ipynb\n",
    "vamos a ver que en el explorador se le puso la letra A, que quiere decir que git lo esta viendo.\n",
    "\n",
    "Para decirle que esta preparado para la repo, le pongo el comando siguiente con el texto para que quede claro su estatus git commit -m \"archivo listo\". Si no le pongo texto da error. \n",
    "\n",
    "Para enviarlo a la repo remota (la repo de git hub) ponemos el comando git push\n",
    "Al ir a mi repositorio. Ahi lo voy a ver al archivo.\n",
    "\n",
    "Si aparece una M al lado del archivo, quiere decir que el archivo fue modificado.\n",
    "Si queremos volver a subirlo, con los cambios, hay que poner los comandos otra vez.\n",
    "\n",
    "El control de versiones es un control de commit. Que muestra todos los cambios  hechos. Se puede ver al ir a mi repositorio y a la derecha seleccionar el boton history.\n",
    "\n",
    "Para ver el historial de commits en la terminal coloco  un comando que debo escuchar en la grabacion.\n",
    "Tip: para salir del editor de texto que pone la terminal al hacer commit, debo hacer ctrl + z\n",
    "\n",
    "\n",
    "\n"
   ]
  },
  {
   "cell_type": "code",
   "execution_count": 30,
   "metadata": {},
   "outputs": [
    {
     "name": "stdout",
     "output_type": "stream",
     "text": [
      "True\n"
     ]
    }
   ],
   "source": [
    "logico = 3>2\n",
    "print(logico) \n",
    "#reglas de nomeclatura en python para definir una variable: \"nombre = \""
   ]
  }
 ],
 "metadata": {
  "kernelspec": {
   "display_name": "Python 3",
   "language": "python",
   "name": "python3"
  },
  "language_info": {
   "codemirror_mode": {
    "name": "ipython",
    "version": 3
   },
   "file_extension": ".py",
   "mimetype": "text/x-python",
   "name": "python",
   "nbconvert_exporter": "python",
   "pygments_lexer": "ipython3",
   "version": "3.12.1"
  }
 },
 "nbformat": 4,
 "nbformat_minor": 2
}
